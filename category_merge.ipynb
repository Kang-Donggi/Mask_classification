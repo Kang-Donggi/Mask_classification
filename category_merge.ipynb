{
 "cells": [
  {
   "cell_type": "code",
   "execution_count": 1,
   "metadata": {},
   "outputs": [],
   "source": [
    "import pandas as pd"
   ]
  },
  {
   "cell_type": "code",
   "execution_count": 2,
   "metadata": {},
   "outputs": [],
   "source": [
    "mask=pd.read_csv('/root/WORKSPACE/output/df_mask.csv')\n",
    "age=pd.read_csv('/root/WORKSPACE/output/df_age.csv')\n",
    "gender=pd.read_csv('/root/WORKSPACE/output/df_gender.csv')"
   ]
  },
  {
   "cell_type": "code",
   "execution_count": 6,
   "metadata": {},
   "outputs": [],
   "source": [
    "merged_df=pd.merge(mask, age, on='ImageID')\n",
    "merged_df = pd.merge(merged_df, gender, on='ImageID')"
   ]
  },
  {
   "cell_type": "code",
   "execution_count": 7,
   "metadata": {},
   "outputs": [
    {
     "data": {
      "text/html": [
       "<div>\n",
       "<style scoped>\n",
       "    .dataframe tbody tr th:only-of-type {\n",
       "        vertical-align: middle;\n",
       "    }\n",
       "\n",
       "    .dataframe tbody tr th {\n",
       "        vertical-align: top;\n",
       "    }\n",
       "\n",
       "    .dataframe thead th {\n",
       "        text-align: right;\n",
       "    }\n",
       "</style>\n",
       "<table border=\"1\" class=\"dataframe\">\n",
       "  <thead>\n",
       "    <tr style=\"text-align: right;\">\n",
       "      <th></th>\n",
       "      <th>ImageID</th>\n",
       "      <th>mask</th>\n",
       "      <th>age</th>\n",
       "      <th>gender</th>\n",
       "    </tr>\n",
       "  </thead>\n",
       "  <tbody>\n",
       "    <tr>\n",
       "      <th>0</th>\n",
       "      <td>cbc5c6e168e63498590db46022617123f1fe1268.jpg</td>\n",
       "      <td>1</td>\n",
       "      <td>1</td>\n",
       "      <td>0</td>\n",
       "    </tr>\n",
       "    <tr>\n",
       "      <th>1</th>\n",
       "      <td>0e72482bf56b3581c081f7da2a6180b8792c7089.jpg</td>\n",
       "      <td>0</td>\n",
       "      <td>1</td>\n",
       "      <td>0</td>\n",
       "    </tr>\n",
       "    <tr>\n",
       "      <th>2</th>\n",
       "      <td>b549040c49190cedc41327748aeb197c1670f14d.jpg</td>\n",
       "      <td>1</td>\n",
       "      <td>1</td>\n",
       "      <td>0</td>\n",
       "    </tr>\n",
       "    <tr>\n",
       "      <th>3</th>\n",
       "      <td>4f9cb2a045c6d5b9e50ad3459ea7b791eb6e18bc.jpg</td>\n",
       "      <td>1</td>\n",
       "      <td>1</td>\n",
       "      <td>0</td>\n",
       "    </tr>\n",
       "    <tr>\n",
       "      <th>4</th>\n",
       "      <td>248428d9a4a5b6229a7081c32851b90cb8d38d0c.jpg</td>\n",
       "      <td>1</td>\n",
       "      <td>0</td>\n",
       "      <td>0</td>\n",
       "    </tr>\n",
       "    <tr>\n",
       "      <th>...</th>\n",
       "      <td>...</td>\n",
       "      <td>...</td>\n",
       "      <td>...</td>\n",
       "      <td>...</td>\n",
       "    </tr>\n",
       "    <tr>\n",
       "      <th>12595</th>\n",
       "      <td>d71d4570505d6af8f777690e63edfa8d85ea4476.jpg</td>\n",
       "      <td>0</td>\n",
       "      <td>1</td>\n",
       "      <td>0</td>\n",
       "    </tr>\n",
       "    <tr>\n",
       "      <th>12596</th>\n",
       "      <td>6cf1300e8e218716728d5820c0bab553306c2cfd.jpg</td>\n",
       "      <td>0</td>\n",
       "      <td>1</td>\n",
       "      <td>1</td>\n",
       "    </tr>\n",
       "    <tr>\n",
       "      <th>12597</th>\n",
       "      <td>8140edbba31c3a824e817e6d5fb95343199e2387.jpg</td>\n",
       "      <td>2</td>\n",
       "      <td>0</td>\n",
       "      <td>1</td>\n",
       "    </tr>\n",
       "    <tr>\n",
       "      <th>12598</th>\n",
       "      <td>030d439efe6fb5a7bafda45a393fc19f2bf57f54.jpg</td>\n",
       "      <td>0</td>\n",
       "      <td>1</td>\n",
       "      <td>0</td>\n",
       "    </tr>\n",
       "    <tr>\n",
       "      <th>12599</th>\n",
       "      <td>f1e0b9594ae9f72571f0a9dc67406ad41f2edab0.jpg</td>\n",
       "      <td>2</td>\n",
       "      <td>1</td>\n",
       "      <td>0</td>\n",
       "    </tr>\n",
       "  </tbody>\n",
       "</table>\n",
       "<p>12600 rows × 4 columns</p>\n",
       "</div>"
      ],
      "text/plain": [
       "                                            ImageID  mask  age  gender\n",
       "0      cbc5c6e168e63498590db46022617123f1fe1268.jpg     1    1       0\n",
       "1      0e72482bf56b3581c081f7da2a6180b8792c7089.jpg     0    1       0\n",
       "2      b549040c49190cedc41327748aeb197c1670f14d.jpg     1    1       0\n",
       "3      4f9cb2a045c6d5b9e50ad3459ea7b791eb6e18bc.jpg     1    1       0\n",
       "4      248428d9a4a5b6229a7081c32851b90cb8d38d0c.jpg     1    0       0\n",
       "...                                             ...   ...  ...     ...\n",
       "12595  d71d4570505d6af8f777690e63edfa8d85ea4476.jpg     0    1       0\n",
       "12596  6cf1300e8e218716728d5820c0bab553306c2cfd.jpg     0    1       1\n",
       "12597  8140edbba31c3a824e817e6d5fb95343199e2387.jpg     2    0       1\n",
       "12598  030d439efe6fb5a7bafda45a393fc19f2bf57f54.jpg     0    1       0\n",
       "12599  f1e0b9594ae9f72571f0a9dc67406ad41f2edab0.jpg     2    1       0\n",
       "\n",
       "[12600 rows x 4 columns]"
      ]
     },
     "execution_count": 7,
     "metadata": {},
     "output_type": "execute_result"
    }
   ],
   "source": [
    "merged_df"
   ]
  },
  {
   "cell_type": "code",
   "execution_count": 8,
   "metadata": {},
   "outputs": [],
   "source": [
    "def determine_label(row):\n",
    "    if row['mask']==0 and row['age']==0 and row['gender']==0:\n",
    "        return 0\n",
    "    \n",
    "    elif row['mask']==0 and row['age']==1 and row['gender']==0:\n",
    "        return 1\n",
    "    \n",
    "    elif row['mask']==0 and row['age']==2 and row['gender']==0:\n",
    "        return 2\n",
    "    \n",
    "    elif row['mask']==0 and row['age']==0 and row['gender']==1:\n",
    "        return 3\n",
    "    \n",
    "    elif row['mask']==0 and row['age']==1 and row['gender']==1:\n",
    "        return 4\n",
    "    \n",
    "    elif row['mask']==0 and row['age']==2 and row['gender']==1:\n",
    "        return 5\n",
    "    \n",
    "    elif row['mask']==2 and row['age']==0 and row['gender']==0:\n",
    "        return 6\n",
    "    \n",
    "    elif row['mask']==2 and row['age']==1 and row['gender']==0:\n",
    "        return 7\n",
    "    \n",
    "    elif row['mask']==2 and row['age']==2 and row['gender']==0:\n",
    "        return 8\n",
    "    \n",
    "    elif row['mask']==2 and row['age']==0 and row['gender']==1:\n",
    "        return 9\n",
    "    \n",
    "    elif row['mask']==2 and row['age']==1 and row['gender']==1:\n",
    "        return 10\n",
    "    \n",
    "    elif row['mask']==2 and row['age']==2 and row['gender']==1:\n",
    "        return 11\n",
    "    \n",
    "    elif row['mask']==1 and row['age']==0 and row['gender']==0:\n",
    "        return 12\n",
    "    \n",
    "    elif row['mask']==1 and row['age']==1 and row['gender']==0:\n",
    "        return 13\n",
    "    \n",
    "    elif row['mask']==1 and row['age']==2 and row['gender']==0:\n",
    "        return 14\n",
    "    \n",
    "    elif row['mask']==1 and row['age']==0 and row['gender']==1:\n",
    "        return 15\n",
    "    \n",
    "    elif row['mask']==1 and row['age']==1 and row['gender']==1:\n",
    "        return 16\n",
    "    \n",
    "    elif row['mask']==1 and row['age']==2 and row['gender']==1:\n",
    "        return 17"
   ]
  },
  {
   "cell_type": "code",
   "execution_count": 9,
   "metadata": {},
   "outputs": [
    {
     "name": "stdout",
     "output_type": "stream",
     "text": [
      "                                            ImageID  mask  age  gender  ans\n",
      "0      cbc5c6e168e63498590db46022617123f1fe1268.jpg     1    1       0   13\n",
      "1      0e72482bf56b3581c081f7da2a6180b8792c7089.jpg     0    1       0    1\n",
      "2      b549040c49190cedc41327748aeb197c1670f14d.jpg     1    1       0   13\n",
      "3      4f9cb2a045c6d5b9e50ad3459ea7b791eb6e18bc.jpg     1    1       0   13\n",
      "4      248428d9a4a5b6229a7081c32851b90cb8d38d0c.jpg     1    0       0   12\n",
      "...                                             ...   ...  ...     ...  ...\n",
      "12595  d71d4570505d6af8f777690e63edfa8d85ea4476.jpg     0    1       0    1\n",
      "12596  6cf1300e8e218716728d5820c0bab553306c2cfd.jpg     0    1       1    4\n",
      "12597  8140edbba31c3a824e817e6d5fb95343199e2387.jpg     2    0       1    9\n",
      "12598  030d439efe6fb5a7bafda45a393fc19f2bf57f54.jpg     0    1       0    1\n",
      "12599  f1e0b9594ae9f72571f0a9dc67406ad41f2edab0.jpg     2    1       0    7\n",
      "\n",
      "[12600 rows x 5 columns]\n"
     ]
    }
   ],
   "source": [
    "merged_df['ans']=merged_df.apply(determine_label, axis=1)\n",
    "\n",
    "print(merged_df)"
   ]
  },
  {
   "cell_type": "code",
   "execution_count": 10,
   "metadata": {},
   "outputs": [],
   "source": [
    "merged_df=merged_df.drop(['mask', 'age', 'gender'], axis=1)"
   ]
  },
  {
   "cell_type": "code",
   "execution_count": 13,
   "metadata": {},
   "outputs": [],
   "source": [
    "merged_df.to_csv('/root/WORKSPACE/output/result.csv')"
   ]
  }
 ],
 "metadata": {
  "kernelspec": {
   "display_name": "base",
   "language": "python",
   "name": "python3"
  },
  "language_info": {
   "codemirror_mode": {
    "name": "ipython",
    "version": 3
   },
   "file_extension": ".py",
   "mimetype": "text/x-python",
   "name": "python",
   "nbconvert_exporter": "python",
   "pygments_lexer": "ipython3",
   "version": "3.10.13"
  }
 },
 "nbformat": 4,
 "nbformat_minor": 2
}
